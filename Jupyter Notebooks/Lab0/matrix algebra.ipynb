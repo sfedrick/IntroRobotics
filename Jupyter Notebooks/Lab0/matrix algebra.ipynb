{
 "cells": [
  {
   "cell_type": "code",
   "execution_count": 366,
   "metadata": {},
   "outputs": [],
   "source": [
    "import numpy as np\n",
    "import sympy as sym\n",
    "from sympy import *\n",
    "from IPython.display import display\n",
    "init_printing(use_latex='mathjax')"
   ]
  },
  {
   "cell_type": "code",
   "execution_count": 367,
   "metadata": {},
   "outputs": [],
   "source": [
    "theta1,theta2,theta3,theta4,theta5=symbols(\"theta1 theta2 theta3 theta4 theta5\")\n",
    "\n",
    "l2,l3,l4=symbols(\"l_{12} l_{23} l_{34}\")\n",
    "le=symbols(\"l_{45}+l_{5}\")\n",
    "\n",
    "\n"
   ]
  },
  {
   "cell_type": "code",
   "execution_count": 368,
   "metadata": {},
   "outputs": [],
   "source": [
    "l2,l3,l4,le=76.2,146.05,187.325,34+34\n",
    "theta1,theta2,theta3,theta4,theta5=pi/4,0,0,0,0\n"
   ]
  },
  {
   "cell_type": "code",
   "execution_count": 369,
   "metadata": {},
   "outputs": [
    {
     "data": {
      "text/latex": [
       "$\\displaystyle \\frac{\\pi}{4}$"
      ],
      "text/plain": [
       "π\n",
       "─\n",
       "4"
      ]
     },
     "metadata": {},
     "output_type": "display_data"
    }
   ],
   "source": [
    "display(theta1)"
   ]
  },
  {
   "cell_type": "code",
   "execution_count": 370,
   "metadata": {},
   "outputs": [
    {
     "data": {
      "text/latex": [
       "$\\displaystyle \\left[\\begin{matrix}1 & 0 & 0 & 0\\\\0 & \\cos{\\left(\\theta_{1} \\right)} & - \\sin{\\left(\\theta_{1} \\right)} & 0\\\\0 & \\sin{\\left(\\theta_{1} \\right)} & \\cos{\\left(\\theta_{1} \\right)} & 0\\\\0 & 0 & 0 & 1\\end{matrix}\\right]$"
      ],
      "text/plain": [
       "⎡1     0        0      0⎤\n",
       "⎢                       ⎥\n",
       "⎢0  cos(θ₁)  -sin(θ₁)  0⎥\n",
       "⎢                       ⎥\n",
       "⎢0  sin(θ₁)  cos(θ₁)   0⎥\n",
       "⎢                       ⎥\n",
       "⎣0     0        0      1⎦"
      ]
     },
     "metadata": {},
     "output_type": "display_data"
    }
   ],
   "source": [
    "#rotation in x\n",
    "d=[0,0,0,1]\n",
    "theta=symbols(\"theta1\")\n",
    "row1=[1,0,0,d[0]]\n",
    "row2=[0,cos(theta),-sin(theta),d[1]]\n",
    "row3=[0,sin(theta),cos(theta),d[2]]\n",
    "row4=[0,0,0,d[3]]\n",
    "A=Matrix([row1,row2,row3,row4])\n",
    "display(A)"
   ]
  },
  {
   "cell_type": "code",
   "execution_count": 371,
   "metadata": {},
   "outputs": [
    {
     "data": {
      "text/latex": [
       "$\\displaystyle \\left[\\begin{matrix}\\cos{\\left(\\theta \\right)} & 0 & \\sin{\\left(\\theta \\right)} & 0\\\\0 & 1 & 0 & 0\\\\- \\sin{\\left(\\theta \\right)} & 0 & \\cos{\\left(\\theta \\right)} & 0\\\\0 & 0 & 0 & 1\\end{matrix}\\right]$"
      ],
      "text/plain": [
       "⎡cos(θ)   0  sin(θ)  0⎤\n",
       "⎢                     ⎥\n",
       "⎢   0     1    0     0⎥\n",
       "⎢                     ⎥\n",
       "⎢-sin(θ)  0  cos(θ)  0⎥\n",
       "⎢                     ⎥\n",
       "⎣   0     0    0     1⎦"
      ]
     },
     "metadata": {},
     "output_type": "display_data"
    }
   ],
   "source": [
    "#rotation in y\n",
    "d=[0,0,0,1]\n",
    "theta=symbols(\"theta\")\n",
    "row1=[cos(theta),0,sin(theta),d[0]]\n",
    "row2=[0,1,0,d[1]]\n",
    "row3=[-sin(theta),0,cos(theta),d[2]]\n",
    "row4=[0,0,0,d[3]]\n",
    "A=Matrix([row1,row2,row3,row4])\n",
    "display(A)"
   ]
  },
  {
   "cell_type": "code",
   "execution_count": 372,
   "metadata": {},
   "outputs": [
    {
     "data": {
      "text/latex": [
       "$\\displaystyle \\left[\\begin{matrix}\\cos{\\left(\\theta \\right)} & - \\sin{\\left(\\theta \\right)} & 0 & 0\\\\\\sin{\\left(\\theta \\right)} & \\cos{\\left(\\theta \\right)} & 0 & 0\\\\0 & 0 & 1 & 0\\\\0 & 0 & 0 & 1\\end{matrix}\\right]$"
      ],
      "text/plain": [
       "⎡cos(θ)  -sin(θ)  0  0⎤\n",
       "⎢                     ⎥\n",
       "⎢sin(θ)  cos(θ)   0  0⎥\n",
       "⎢                     ⎥\n",
       "⎢  0        0     1  0⎥\n",
       "⎢                     ⎥\n",
       "⎣  0        0     0  1⎦"
      ]
     },
     "metadata": {},
     "output_type": "display_data"
    }
   ],
   "source": [
    "#rotation in z\n",
    "d=[0,0,0,1]\n",
    "theta=symbols(\"theta\")\n",
    "row1=[cos(theta),-sin(theta),0,d[0]]\n",
    "row2=[sin(theta),cos(theta),0,d[1]]\n",
    "row3=[0,0,1,d[2]]\n",
    "row4=[0,0,0,d[3]]\n",
    "A=Matrix([row1,row2,row3,row4])\n",
    "display(A)"
   ]
  },
  {
   "cell_type": "code",
   "execution_count": 373,
   "metadata": {},
   "outputs": [
    {
     "data": {
      "text/latex": [
       "$\\displaystyle \\left[\\begin{matrix}0 & 0 & 1 & 0\\\\0 & -1 & 0 & 0\\\\1 & 0 & 0 & 0\\\\0 & 0 & 0 & 1\\end{matrix}\\right]$"
      ],
      "text/plain": [
       "⎡0  0   1  0⎤\n",
       "⎢           ⎥\n",
       "⎢0  -1  0  0⎥\n",
       "⎢           ⎥\n",
       "⎢1  0   0  0⎥\n",
       "⎢           ⎥\n",
       "⎣0  0   0  1⎦"
      ]
     },
     "metadata": {},
     "output_type": "display_data"
    }
   ],
   "source": [
    "#H 0->0.5\n",
    "d=[0,0,0,1]\n",
    "theta=symbols(\"theta\")\n",
    "row1=[0,0,1,d[0]]\n",
    "row2=[0,-1,0,d[1]]\n",
    "row3=[1,0,0,d[2]]\n",
    "row4=[0,0,0,d[3]]\n",
    "T0_05=Matrix([row1,row2,row3,row4])\n",
    "display(T0_05)\n"
   ]
  },
  {
   "cell_type": "code",
   "execution_count": 374,
   "metadata": {},
   "outputs": [
    {
     "data": {
      "text/latex": [
       "$\\displaystyle \\left[\\begin{matrix}1 & 0 & 0 & 0\\\\0 & \\frac{\\sqrt{2}}{2} & - \\frac{\\sqrt{2}}{2} & 0\\\\0 & \\frac{\\sqrt{2}}{2} & \\frac{\\sqrt{2}}{2} & 0\\\\0 & 0 & 0 & 1\\end{matrix}\\right]$"
      ],
      "text/plain": [
       "⎡1  0    0    0⎤\n",
       "⎢              ⎥\n",
       "⎢   √2  -√2    ⎥\n",
       "⎢0  ──  ────  0⎥\n",
       "⎢   2    2     ⎥\n",
       "⎢              ⎥\n",
       "⎢   √2   √2    ⎥\n",
       "⎢0  ──   ──   0⎥\n",
       "⎢   2    2     ⎥\n",
       "⎢              ⎥\n",
       "⎣0  0    0    1⎦"
      ]
     },
     "metadata": {},
     "output_type": "display_data"
    }
   ],
   "source": [
    "#H 0.5->1\n",
    "d=[0,0,0,1]\n",
    "theta=theta1\n",
    "row1=[1,0,0,d[0]]\n",
    "row2=[0,cos(theta),-sin(theta),d[1]]\n",
    "row3=[0,sin(theta),cos(theta),d[2]]\n",
    "row4=[0,0,0,d[3]]\n",
    "T05_1=Matrix([row1,row2,row3,row4])\n",
    "display(T05_1)"
   ]
  },
  {
   "cell_type": "code",
   "execution_count": 375,
   "metadata": {},
   "outputs": [
    {
     "data": {
      "text/latex": [
       "$\\displaystyle \\left[\\begin{matrix}1 & 0 & 0 & 76.2\\\\0 & 1 & 0 & 0\\\\0 & 0 & 1 & 0\\\\0 & 0 & 0 & 1\\end{matrix}\\right]$"
      ],
      "text/plain": [
       "⎡1  0  0  76.2⎤\n",
       "⎢             ⎥\n",
       "⎢0  1  0   0  ⎥\n",
       "⎢             ⎥\n",
       "⎢0  0  1   0  ⎥\n",
       "⎢             ⎥\n",
       "⎣0  0  0   1  ⎦"
      ]
     },
     "metadata": {},
     "output_type": "display_data"
    }
   ],
   "source": [
    "#H 1->2\n",
    "d=[l2,0,0,1]\n",
    "theta=-theta2\n",
    "\n",
    "row1=[cos(theta),0,sin(theta),d[0]]\n",
    "row2=[0,1,0,d[1]]\n",
    "row3=[-sin(theta),0,cos(theta),d[2]]\n",
    "row4=[0,0,0,d[3]]\n",
    "T12=Matrix([row1,row2,row3,row4])\n",
    "display(T12)"
   ]
  },
  {
   "cell_type": "code",
   "execution_count": 376,
   "metadata": {},
   "outputs": [
    {
     "data": {
      "text/latex": [
       "$\\displaystyle \\left[\\begin{matrix}1 & 0 & 0 & 146.05\\\\0 & 1 & 0 & 0\\\\0 & 0 & 1 & 0\\\\0 & 0 & 0 & 1\\end{matrix}\\right]$"
      ],
      "text/plain": [
       "⎡1  0  0  146.05⎤\n",
       "⎢               ⎥\n",
       "⎢0  1  0    0   ⎥\n",
       "⎢               ⎥\n",
       "⎢0  0  1    0   ⎥\n",
       "⎢               ⎥\n",
       "⎣0  0  0    1   ⎦"
      ]
     },
     "metadata": {},
     "output_type": "display_data"
    }
   ],
   "source": [
    "#H 2->3\n",
    "\n",
    "d=[l3,0,0,1]\n",
    "theta=-theta3\n",
    "\n",
    "row1=[cos(theta),0,sin(theta),d[0]]\n",
    "row2=[0,1,0,d[1]]\n",
    "row3=[-sin(theta),0,cos(theta),d[2]]\n",
    "row4=[0,0,0,d[3]]\n",
    "T23=Matrix([row1,row2,row3,row4])\n",
    "display(T23)"
   ]
  },
  {
   "cell_type": "code",
   "execution_count": 377,
   "metadata": {},
   "outputs": [
    {
     "data": {
      "text/latex": [
       "$\\displaystyle \\left[\\begin{matrix}1 & 0 & 0 & 0\\\\0 & 1 & 0 & 0\\\\0 & 0 & 1 & 187.325\\\\0 & 0 & 0 & 1\\end{matrix}\\right]$"
      ],
      "text/plain": [
       "⎡1  0  0     0   ⎤\n",
       "⎢                ⎥\n",
       "⎢0  1  0     0   ⎥\n",
       "⎢                ⎥\n",
       "⎢0  0  1  187.325⎥\n",
       "⎢                ⎥\n",
       "⎣0  0  0     1   ⎦"
      ]
     },
     "metadata": {},
     "output_type": "display_data"
    }
   ],
   "source": [
    "#H 3->4\n",
    "\n",
    "d=[0,0,l4,1]\n",
    "theta=-theta4\n",
    "\n",
    "row1=[cos(theta),0,sin(theta),d[0]]\n",
    "row2=[0,1,0,d[1]]\n",
    "row3=[-sin(theta),0,cos(theta),d[2]]\n",
    "row4=[0,0,0,d[3]]\n",
    "T34=Matrix([row1,row2,row3,row4])\n",
    "display(T34)"
   ]
  },
  {
   "cell_type": "code",
   "execution_count": 378,
   "metadata": {},
   "outputs": [
    {
     "data": {
      "text/latex": [
       "$\\displaystyle \\left[\\begin{matrix}1 & 0 & 0 & 0\\\\0 & 1 & 0 & 0\\\\0 & 0 & 1 & 68\\\\0 & 0 & 0 & 1\\end{matrix}\\right]$"
      ],
      "text/plain": [
       "⎡1  0  0  0 ⎤\n",
       "⎢           ⎥\n",
       "⎢0  1  0  0 ⎥\n",
       "⎢           ⎥\n",
       "⎢0  0  1  68⎥\n",
       "⎢           ⎥\n",
       "⎣0  0  0  1 ⎦"
      ]
     },
     "metadata": {},
     "output_type": "display_data"
    }
   ],
   "source": [
    "#H 4->e\n",
    "\n",
    "d=[0,0,le,1]\n",
    "theta=theta5\n",
    "row1=[cos(theta),-sin(theta),0,d[0]]\n",
    "row2=[sin(theta),cos(theta),0,d[1]]\n",
    "row3=[0,0,1,d[2]]\n",
    "row4=[0,0,0,d[3]]\n",
    "T4e=Matrix([row1,row2,row3,row4])\n",
    "display(T4e)"
   ]
  },
  {
   "cell_type": "code",
   "execution_count": 379,
   "metadata": {},
   "outputs": [],
   "source": [
    "result=((((T0_05*T05_1)*T12)*T23)*T34)*T4e"
   ]
  },
  {
   "cell_type": "code",
   "execution_count": 380,
   "metadata": {},
   "outputs": [
    {
     "data": {
      "text/latex": [
       "$\\displaystyle \\left[\\begin{matrix}0 & \\frac{\\sqrt{2}}{2} & \\frac{\\sqrt{2}}{2} & 127.6625 \\sqrt{2}\\\\0 & - \\frac{\\sqrt{2}}{2} & \\frac{\\sqrt{2}}{2} & 127.6625 \\sqrt{2}\\\\1 & 0 & 0 & 222.25\\\\0 & 0 & 0 & 1\\end{matrix}\\right]$"
      ],
      "text/plain": [
       "⎡    √2   √2             ⎤\n",
       "⎢0   ──   ──  127.6625⋅√2⎥\n",
       "⎢    2    2              ⎥\n",
       "⎢                        ⎥\n",
       "⎢   -√2   √2             ⎥\n",
       "⎢0  ────  ──  127.6625⋅√2⎥\n",
       "⎢    2    2              ⎥\n",
       "⎢                        ⎥\n",
       "⎢1   0    0     222.25   ⎥\n",
       "⎢                        ⎥\n",
       "⎣0   0    0        1     ⎦"
      ]
     },
     "metadata": {},
     "output_type": "display_data"
    }
   ],
   "source": [
    "display(result)"
   ]
  },
  {
   "cell_type": "code",
   "execution_count": null,
   "metadata": {},
   "outputs": [],
   "source": []
  }
 ],
 "metadata": {
  "kernelspec": {
   "display_name": "Python 3",
   "language": "python",
   "name": "python3"
  },
  "language_info": {
   "codemirror_mode": {
    "name": "ipython",
    "version": 3
   },
   "file_extension": ".py",
   "mimetype": "text/x-python",
   "name": "python",
   "nbconvert_exporter": "python",
   "pygments_lexer": "ipython3",
   "version": "3.7.7"
  }
 },
 "nbformat": 4,
 "nbformat_minor": 4
}
