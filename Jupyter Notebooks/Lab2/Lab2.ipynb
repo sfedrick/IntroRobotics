{
 "cells": [
  {
   "cell_type": "code",
   "execution_count": 2,
   "metadata": {},
   "outputs": [],
   "source": [
    "import numpy as np\n",
    "import math\n",
    "import sympy as sym\n",
    "from sympy import *\n",
    "from IPython.display import display\n",
    "init_printing(use_latex='mathjax')\n",
    "x,y,z=sym.symbols('x y z')"
   ]
  },
  {
   "cell_type": "code",
   "execution_count": 3,
   "metadata": {},
   "outputs": [],
   "source": [
    "def createA(DH4):\n",
    "    a=DH4[0]\n",
    "    alpha=DH4[1]\n",
    "    d=DH4[2]\n",
    "    theta=DH4[3]\n",
    "    row1=[cos(theta),-sin(theta)*cos(alpha),sin(theta)*sin(alpha),a*cos(theta)]\n",
    "    row2=[sin(theta),cos(theta)*cos(alpha),-cos(theta)*sin(alpha),a*sin(theta)]\n",
    "    row3=[0,sin(alpha),cos(alpha),d]\n",
    "    row4=[0,0,0,1]\n",
    "    Ai_1i=Matrix([row1,row2,row3,row4])\n",
    "    return Ai_1i"
   ]
  },
  {
   "cell_type": "code",
   "execution_count": 69,
   "metadata": {},
   "outputs": [],
   "source": [
    "def getthetasW(x,y,z,a1,a2,a3):\n",
    "    theta1=atan2(y,x)\n",
    "    theta2a=atan2(((x**2 +y**2)**0.5),z-a1)\n",
    "    theta2b=np.arccos((a3**2-a2**2-(x**2 +y**2+(z-a1)**2))/(-2*a2*(x**2+y**2+(z-a1)**2)**(0.5)))\n",
    "    theta2=theta2a-theta2b\n",
    "    theta3=pi/2-np.arccos((x**2 +y**2 +(z-a1)**2 -a2**2 -a3**2)/(-2*a2*a3))\n",
    "    return[theta1,theta2,theta3]"
   ]
  },
  {
   "cell_type": "code",
   "execution_count": 99,
   "metadata": {},
   "outputs": [],
   "source": [
    "def getthetas(x,y,z,a1,a2,a3):\n",
    "    a2=a2+a1\n",
    "    r=(x**2+y**2)**0.5\n",
    "    s=(r**2+z**2)**(0.5)\n",
    "    theta1=atan2(y,x)\n",
    "    theta3=-pi/2 +np.arccos(-(s**2-a2**2-a3**2)/(-2*a2*a3))\n",
    "    beta=atan2(z,r)\n",
    "    gamma=(pi/2)-theta3\n",
    "    alpha=atan2(a3*sin(gamma),a2+a3*cos(gamma))\n",
    "    theta2=pi/2 -alpha -beta\n",
    "    \n",
    "    return[theta1,theta2,theta3]"
   ]
  },
  {
   "cell_type": "code",
   "execution_count": 19,
   "metadata": {},
   "outputs": [],
   "source": [
    "L1=symbols(\"L{1}\")\n",
    "L2=symbols(\"L_{2}\")\n",
    "L3=symbols(\"L_{3}\")\n",
    "theta1=symbols(\"theta1\")\n",
    "theta2=symbols(\"theta2\")\n",
    "theta3=symbols(\"theta3\")"
   ]
  },
  {
   "cell_type": "code",
   "execution_count": 107,
   "metadata": {},
   "outputs": [],
   "source": [
    "L1=1\n",
    "L2=1\n",
    "L3=1\n",
    "x=0\n",
    "y=0\n",
    "z=3\n",
    "theta1,theta2,theta3=getthetas(x,y,z,L1,L2,L3)\n"
   ]
  },
  {
   "cell_type": "code",
   "execution_count": 42,
   "metadata": {},
   "outputs": [],
   "source": [
    "theta1=0\n",
    "theta2=0\n",
    "theta3=0"
   ]
  },
  {
   "cell_type": "code",
   "execution_count": 23,
   "metadata": {},
   "outputs": [],
   "source": [
    "link1=[0,-pi/2,L1,theta1]\n",
    "link2=[L2,0,0,theta2-pi/2]\n",
    "link3=[L3,0,0,theta3+pi/2]\n",
    "\n",
    "T1=createA(link1)\n",
    "T2=createA(link2)\n",
    "T3=createA(link3)"
   ]
  },
  {
   "cell_type": "code",
   "execution_count": 24,
   "metadata": {},
   "outputs": [
    {
     "data": {
      "text/latex": [
       "$\\displaystyle \\left[\\begin{matrix}1 & 0 & 0 & L_{3}\\\\0 & 0 & 1 & 0\\\\0 & -1 & 0 & L_{2} + L{1}\\\\0 & 0 & 0 & 1\\end{matrix}\\right]$"
      ],
      "text/plain": [
       "⎡1  0   0     L_{3}    ⎤\n",
       "⎢                      ⎥\n",
       "⎢0  0   1       0      ⎥\n",
       "⎢                      ⎥\n",
       "⎢0  -1  0  L_{2} + L{1}⎥\n",
       "⎢                      ⎥\n",
       "⎣0  0   0       1      ⎦"
      ]
     },
     "metadata": {},
     "output_type": "display_data"
    }
   ],
   "source": [
    "display(simplify(T1*T2*T3))"
   ]
  },
  {
   "cell_type": "code",
   "execution_count": 108,
   "metadata": {},
   "outputs": [
    {
     "data": {
      "text/latex": [
       "$\\displaystyle nan$"
      ],
      "text/plain": [
       "nan"
      ]
     },
     "metadata": {},
     "output_type": "display_data"
    },
    {
     "data": {
      "text/latex": [
       "$\\displaystyle 0.0$"
      ],
      "text/plain": [
       "0.0"
      ]
     },
     "metadata": {},
     "output_type": "display_data"
    },
    {
     "data": {
      "text/latex": [
       "$\\displaystyle -90.0$"
      ],
      "text/plain": [
       "-90.0"
      ]
     },
     "metadata": {},
     "output_type": "display_data"
    }
   ],
   "source": [
    "display(math.degrees(theta1))\n",
    "display(math.degrees(theta2))\n",
    "display(math.degrees(theta3))"
   ]
  },
  {
   "cell_type": "code",
   "execution_count": 11,
   "metadata": {},
   "outputs": [
    {
     "data": {
      "text/latex": [
       "$\\displaystyle 44.99999999987461$"
      ],
      "text/plain": [
       "44.99999999987461"
      ]
     },
     "execution_count": 11,
     "metadata": {},
     "output_type": "execute_result"
    }
   ],
   "source": [
    "math.degrees(np.arccos(1/1.41421356237))"
   ]
  },
  {
   "cell_type": "code",
   "execution_count": null,
   "metadata": {},
   "outputs": [],
   "source": []
  }
 ],
 "metadata": {
  "kernelspec": {
   "display_name": "Python 3",
   "language": "python",
   "name": "python3"
  },
  "language_info": {
   "codemirror_mode": {
    "name": "ipython",
    "version": 3
   },
   "file_extension": ".py",
   "mimetype": "text/x-python",
   "name": "python",
   "nbconvert_exporter": "python",
   "pygments_lexer": "ipython3",
   "version": "3.7.7"
  }
 },
 "nbformat": 4,
 "nbformat_minor": 4
}
