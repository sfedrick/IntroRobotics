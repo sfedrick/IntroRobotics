{
 "cells": [
  {
   "cell_type": "code",
   "execution_count": 1,
   "metadata": {},
   "outputs": [],
   "source": [
    "from sympy import *\n",
    "import math\n",
    "from IPython.display import display\n",
    "\n",
    "#d1 = 76.2\n",
    "#a2 = 146.05\n",
    "#a3 = 187.325\n",
    "#d5 = 68\n",
    "d1, a2, a3, d5 = symbols('d1, a2, a3, d5')"
   ]
  },
  {
   "cell_type": "code",
   "execution_count": null,
   "metadata": {},
   "outputs": [],
   "source": [
    "t1,t2,t3"
   ]
  },
  {
   "cell_type": "code",
   "execution_count": 2,
   "metadata": {},
   "outputs": [
    {
     "ename": "NameError",
     "evalue": "name 't1' is not defined",
     "output_type": "error",
     "traceback": [
      "\u001b[1;31m---------------------------------------------------------------------------\u001b[0m",
      "\u001b[1;31mNameError\u001b[0m                                 Traceback (most recent call last)",
      "\u001b[1;32m<ipython-input-2-b237a104d510>\u001b[0m in \u001b[0;36m<module>\u001b[1;34m\u001b[0m\n\u001b[0;32m      1\u001b[0m \u001b[0mR0e\u001b[0m \u001b[1;33m=\u001b[0m \u001b[0mMatrixSymbol\u001b[0m\u001b[1;33m(\u001b[0m\u001b[1;34m'R0e'\u001b[0m\u001b[1;33m,\u001b[0m\u001b[1;36m3\u001b[0m\u001b[1;33m,\u001b[0m\u001b[1;36m3\u001b[0m\u001b[1;33m)\u001b[0m\u001b[1;33m\u001b[0m\u001b[1;33m\u001b[0m\u001b[0m\n\u001b[1;32m----> 2\u001b[1;33m \u001b[0mx0e\u001b[0m \u001b[1;33m=\u001b[0m \u001b[0mt1\u001b[0m\u001b[1;33m\u001b[0m\u001b[1;33m\u001b[0m\u001b[0m\n\u001b[0m\u001b[0;32m      3\u001b[0m \u001b[0my0e\u001b[0m \u001b[1;33m=\u001b[0m \u001b[0mt2\u001b[0m\u001b[1;33m\u001b[0m\u001b[1;33m\u001b[0m\u001b[0m\n\u001b[0;32m      4\u001b[0m \u001b[0mz0e\u001b[0m \u001b[1;33m=\u001b[0m \u001b[0mt3\u001b[0m\u001b[1;33m\u001b[0m\u001b[1;33m\u001b[0m\u001b[0m\n\u001b[0;32m      5\u001b[0m \u001b[0mprint\u001b[0m\u001b[1;33m(\u001b[0m\u001b[0mR0e\u001b[0m\u001b[1;33m)\u001b[0m\u001b[1;33m\u001b[0m\u001b[1;33m\u001b[0m\u001b[0m\n",
      "\u001b[1;31mNameError\u001b[0m: name 't1' is not defined"
     ]
    }
   ],
   "source": [
    "R0e = MatrixSymbol('R0e',3,3)\n",
    "x0e = t1\n",
    "y0e = t2\n",
    "z0e = t3\n",
    "print(R0e)"
   ]
  },
  {
   "cell_type": "code",
   "execution_count": null,
   "metadata": {},
   "outputs": [],
   "source": [
    "x0c = x0e - d5*R0e[0,2]\n",
    "y0c = y0e - d5*R0e[1,2]\n",
    "z0c = z0e - d5*R0e[2,2]"
   ]
  },
  {
   "cell_type": "code",
   "execution_count": null,
   "metadata": {},
   "outputs": [],
   "source": [
    "# Calculate theta1, theta2, theta3\n",
    "\n",
    "theta1 = atan2(y0c,x0c)\n",
    "r1 = sympy.sqrt(y0c**2 + x0c**2)\n",
    "r2 = z0c - d1\n",
    "phi2 = atan2(r1, r2)\n",
    "r3 = sympy.sqrt(r1**2+r2**2)\n",
    "phi1 = acos((a3**2-a2**2-r3**2)/(-2*a2*r3))\n",
    "theta2 = phi2-phi1\n",
    "phi3 = acos((r3**2-a2**2-a3**2)/(-2*a2*a3))\n",
    "theta3 = pi/2-phi3"
   ]
  },
  {
   "cell_type": "code",
   "execution_count": null,
   "metadata": {},
   "outputs": [],
   "source": [
    "# Calculate FK for R01\n",
    "\n",
    "a = 0\n",
    "alpha = -pi/2\n",
    "d = d1\n",
    "theta = theta1\n",
    "R01 = Matrix([[cos(theta), -sin(theta)*cos(alpha), sin(theta)*sin(alpha)],\n",
    "            [sin(theta), cos(theta)*cos(alpha), -cos(theta)*sin(alpha)],\n",
    "            [0, sin(alpha), cos(alpha)]])"
   ]
  },
  {
   "cell_type": "code",
   "execution_count": null,
   "metadata": {},
   "outputs": [],
   "source": [
    "# Calculate FK for R12\n",
    "\n",
    "a = -a2\n",
    "alpha = 0\n",
    "d = 0\n",
    "theta = theta2+pi/2\n",
    "R12 = Matrix([[cos(theta), -sin(theta)*cos(alpha), sin(theta)*sin(alpha)],\n",
    "            [sin(theta), cos(theta)*cos(alpha), -cos(theta)*sin(alpha)],\n",
    "            [0, sin(alpha), cos(alpha)]])"
   ]
  },
  {
   "cell_type": "code",
   "execution_count": null,
   "metadata": {},
   "outputs": [],
   "source": [
    "# Calculate FK for R23\n",
    "\n",
    "a = a3\n",
    "alpha = 0\n",
    "d = 0\n",
    "theta = theta2-pi/2\n",
    "R23 = Matrix([[cos(theta), -sin(theta)*cos(alpha), sin(theta)*sin(alpha)],\n",
    "            [sin(theta), cos(theta)*cos(alpha), -cos(theta)*sin(alpha)],\n",
    "            [0, sin(alpha), cos(alpha)]])"
   ]
  },
  {
   "cell_type": "code",
   "execution_count": null,
   "metadata": {
    "scrolled": true
   },
   "outputs": [],
   "source": [
    "# Calculate R03\n",
    "\n",
    "R03 = R01*R12*R23\n",
    "display(R03)"
   ]
  },
  {
   "cell_type": "code",
   "execution_count": null,
   "metadata": {},
   "outputs": [],
   "source": [
    "# Calculate Re3\n",
    "\n",
    "R3e = R03.inv()*R0e\n",
    "#display(R0e[1,2])\n",
    "#display(R3e)\n",
    "#display(R3e[1,2])"
   ]
  },
  {
   "cell_type": "code",
   "execution_count": null,
   "metadata": {},
   "outputs": [],
   "source": [
    "# Find theta4, theta5\n",
    "\n",
    "theta5 = acos(-R3e[2,1])\n",
    "theta4 = asin(-R3e[1,2])\n",
    "display(theta5)\n",
    "display(theta4)"
   ]
  }
 ],
 "metadata": {
  "kernelspec": {
   "display_name": "Python 3",
   "language": "python",
   "name": "python3"
  },
  "language_info": {
   "codemirror_mode": {
    "name": "ipython",
    "version": 3
   },
   "file_extension": ".py",
   "mimetype": "text/x-python",
   "name": "python",
   "nbconvert_exporter": "python",
   "pygments_lexer": "ipython3",
   "version": "3.7.7"
  }
 },
 "nbformat": 4,
 "nbformat_minor": 4
}
