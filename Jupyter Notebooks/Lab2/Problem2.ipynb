{
 "cells": [
  {
   "cell_type": "code",
   "execution_count": 130,
   "metadata": {},
   "outputs": [],
   "source": [
    "from sympy import *\n",
    "import math\n",
    "from IPython.display import display\n",
    "\n",
    "#d1 = 76.2\n",
    "#a2 = 146.05\n",
    "#a3 = 187.325\n",
    "#d5 = 68\n",
    "d1, a2, a3, d5 = symbols('d1, a2, a3, d5')"
   ]
  },
  {
   "cell_type": "code",
   "execution_count": 131,
   "metadata": {},
   "outputs": [
    {
     "name": "stdout",
     "output_type": "stream",
     "text": [
      "R0e\n"
     ]
    }
   ],
   "source": [
    "R0e = MatrixSymbol('R0e',3,3)\n",
    "x0e = t1\n",
    "y0e = t2\n",
    "z0e = t3\n",
    "print(R0e)"
   ]
  },
  {
   "cell_type": "code",
   "execution_count": 132,
   "metadata": {},
   "outputs": [],
   "source": [
    "x0c = x0e - d5*R0e[0,2]\n",
    "y0c = y0e - d5*R0e[1,2]\n",
    "z0c = z0e - d5*R0e[2,2]"
   ]
  },
  {
   "cell_type": "code",
   "execution_count": 133,
   "metadata": {},
   "outputs": [],
   "source": [
    "# Calculate theta1, theta2, theta3\n",
    "\n",
    "theta1 = atan2(y0c,x0c)\n",
    "r1 = sympy.sqrt(y0c**2 + x0c**2)\n",
    "r2 = z0c - d1\n",
    "phi2 = atan2(r1, r2)\n",
    "r3 = sympy.sqrt(r1**2+r2**2)\n",
    "phi1 = acos((a3**2-a2**2-r3**2)/(-2*a2*r3))\n",
    "theta2 = phi2-phi1\n",
    "phi3 = acos((r3**2-a2**2-a3**2)/(-2*a2*a3))\n",
    "theta3 = pi/2-phi3"
   ]
  },
  {
   "cell_type": "code",
   "execution_count": 134,
   "metadata": {},
   "outputs": [],
   "source": [
    "# Calculate FK for R01\n",
    "\n",
    "a = 0\n",
    "alpha = -pi/2\n",
    "d = d1\n",
    "theta = theta1\n",
    "R01 = Matrix([[cos(theta), -sin(theta)*cos(alpha), sin(theta)*sin(alpha)],\n",
    "            [sin(theta), cos(theta)*cos(alpha), -cos(theta)*sin(alpha)],\n",
    "            [0, sin(alpha), cos(alpha)]])"
   ]
  },
  {
   "cell_type": "code",
   "execution_count": 135,
   "metadata": {},
   "outputs": [],
   "source": [
    "# Calculate FK for R12\n",
    "\n",
    "a = -a2\n",
    "alpha = 0\n",
    "d = 0\n",
    "theta = theta2+pi/2\n",
    "R12 = Matrix([[cos(theta), -sin(theta)*cos(alpha), sin(theta)*sin(alpha)],\n",
    "            [sin(theta), cos(theta)*cos(alpha), -cos(theta)*sin(alpha)],\n",
    "            [0, sin(alpha), cos(alpha)]])"
   ]
  },
  {
   "cell_type": "code",
   "execution_count": 136,
   "metadata": {},
   "outputs": [],
   "source": [
    "# Calculate FK for R23\n",
    "\n",
    "a = a3\n",
    "alpha = 0\n",
    "d = 0\n",
    "theta = theta2-pi/2\n",
    "R23 = Matrix([[cos(theta), -sin(theta)*cos(alpha), sin(theta)*sin(alpha)],\n",
    "            [sin(theta), cos(theta)*cos(alpha), -cos(theta)*sin(alpha)],\n",
    "            [0, sin(alpha), cos(alpha)]])"
   ]
  },
  {
   "cell_type": "code",
   "execution_count": 137,
   "metadata": {
    "scrolled": true
   },
   "outputs": [
    {
     "data": {
      "text/latex": [
       "$\\displaystyle \\left[\\begin{matrix}- \\frac{\\left(- d_{5} R0e_{0, 2} + t_{1}\\right) \\sin^{2}{\\left(\\operatorname{acos}{\\left(- \\frac{- a_{2}^{2} + a_{3}^{2} - \\left(- d_{5} R0e_{0, 2} + t_{1}\\right)^{2} - \\left(- d_{5} R0e_{1, 2} + t_{2}\\right)^{2} - \\left(- d_{1} - d_{5} R0e_{2, 2} + t_{3}\\right)^{2}}{2 a_{2} \\sqrt{\\left(- d_{5} R0e_{0, 2} + t_{1}\\right)^{2} + \\left(- d_{5} R0e_{1, 2} + t_{2}\\right)^{2} + \\left(- d_{1} - d_{5} R0e_{2, 2} + t_{3}\\right)^{2}}} \\right)} - \\operatorname{atan_{2}}{\\left(\\sqrt{\\left(- d_{5} R0e_{0, 2} + t_{1}\\right)^{2} + \\left(- d_{5} R0e_{1, 2} + t_{2}\\right)^{2}},- d_{1} - d_{5} R0e_{2, 2} + t_{3} \\right)} \\right)}}{\\sqrt{\\left(- d_{5} R0e_{0, 2} + t_{1}\\right)^{2} + \\left(- d_{5} R0e_{1, 2} + t_{2}\\right)^{2}}} + \\frac{\\left(- d_{5} R0e_{0, 2} + t_{1}\\right) \\cos^{2}{\\left(\\operatorname{acos}{\\left(- \\frac{- a_{2}^{2} + a_{3}^{2} - \\left(- d_{5} R0e_{0, 2} + t_{1}\\right)^{2} - \\left(- d_{5} R0e_{1, 2} + t_{2}\\right)^{2} - \\left(- d_{1} - d_{5} R0e_{2, 2} + t_{3}\\right)^{2}}{2 a_{2} \\sqrt{\\left(- d_{5} R0e_{0, 2} + t_{1}\\right)^{2} + \\left(- d_{5} R0e_{1, 2} + t_{2}\\right)^{2} + \\left(- d_{1} - d_{5} R0e_{2, 2} + t_{3}\\right)^{2}}} \\right)} - \\operatorname{atan_{2}}{\\left(\\sqrt{\\left(- d_{5} R0e_{0, 2} + t_{1}\\right)^{2} + \\left(- d_{5} R0e_{1, 2} + t_{2}\\right)^{2}},- d_{1} - d_{5} R0e_{2, 2} + t_{3} \\right)} \\right)}}{\\sqrt{\\left(- d_{5} R0e_{0, 2} + t_{1}\\right)^{2} + \\left(- d_{5} R0e_{1, 2} + t_{2}\\right)^{2}}} & \\frac{2 \\left(- d_{5} R0e_{0, 2} + t_{1}\\right) \\sin{\\left(\\operatorname{acos}{\\left(- \\frac{- a_{2}^{2} + a_{3}^{2} - \\left(- d_{5} R0e_{0, 2} + t_{1}\\right)^{2} - \\left(- d_{5} R0e_{1, 2} + t_{2}\\right)^{2} - \\left(- d_{1} - d_{5} R0e_{2, 2} + t_{3}\\right)^{2}}{2 a_{2} \\sqrt{\\left(- d_{5} R0e_{0, 2} + t_{1}\\right)^{2} + \\left(- d_{5} R0e_{1, 2} + t_{2}\\right)^{2} + \\left(- d_{1} - d_{5} R0e_{2, 2} + t_{3}\\right)^{2}}} \\right)} - \\operatorname{atan_{2}}{\\left(\\sqrt{\\left(- d_{5} R0e_{0, 2} + t_{1}\\right)^{2} + \\left(- d_{5} R0e_{1, 2} + t_{2}\\right)^{2}},- d_{1} - d_{5} R0e_{2, 2} + t_{3} \\right)} \\right)} \\cos{\\left(\\operatorname{acos}{\\left(- \\frac{- a_{2}^{2} + a_{3}^{2} - \\left(- d_{5} R0e_{0, 2} + t_{1}\\right)^{2} - \\left(- d_{5} R0e_{1, 2} + t_{2}\\right)^{2} - \\left(- d_{1} - d_{5} R0e_{2, 2} + t_{3}\\right)^{2}}{2 a_{2} \\sqrt{\\left(- d_{5} R0e_{0, 2} + t_{1}\\right)^{2} + \\left(- d_{5} R0e_{1, 2} + t_{2}\\right)^{2} + \\left(- d_{1} - d_{5} R0e_{2, 2} + t_{3}\\right)^{2}}} \\right)} - \\operatorname{atan_{2}}{\\left(\\sqrt{\\left(- d_{5} R0e_{0, 2} + t_{1}\\right)^{2} + \\left(- d_{5} R0e_{1, 2} + t_{2}\\right)^{2}},- d_{1} - d_{5} R0e_{2, 2} + t_{3} \\right)} \\right)}}{\\sqrt{\\left(- d_{5} R0e_{0, 2} + t_{1}\\right)^{2} + \\left(- d_{5} R0e_{1, 2} + t_{2}\\right)^{2}}} & - \\frac{- d_{5} R0e_{1, 2} + t_{2}}{\\sqrt{\\left(- d_{5} R0e_{0, 2} + t_{1}\\right)^{2} + \\left(- d_{5} R0e_{1, 2} + t_{2}\\right)^{2}}}\\\\- \\frac{\\left(- d_{5} R0e_{1, 2} + t_{2}\\right) \\sin^{2}{\\left(\\operatorname{acos}{\\left(- \\frac{- a_{2}^{2} + a_{3}^{2} - \\left(- d_{5} R0e_{0, 2} + t_{1}\\right)^{2} - \\left(- d_{5} R0e_{1, 2} + t_{2}\\right)^{2} - \\left(- d_{1} - d_{5} R0e_{2, 2} + t_{3}\\right)^{2}}{2 a_{2} \\sqrt{\\left(- d_{5} R0e_{0, 2} + t_{1}\\right)^{2} + \\left(- d_{5} R0e_{1, 2} + t_{2}\\right)^{2} + \\left(- d_{1} - d_{5} R0e_{2, 2} + t_{3}\\right)^{2}}} \\right)} - \\operatorname{atan_{2}}{\\left(\\sqrt{\\left(- d_{5} R0e_{0, 2} + t_{1}\\right)^{2} + \\left(- d_{5} R0e_{1, 2} + t_{2}\\right)^{2}},- d_{1} - d_{5} R0e_{2, 2} + t_{3} \\right)} \\right)}}{\\sqrt{\\left(- d_{5} R0e_{0, 2} + t_{1}\\right)^{2} + \\left(- d_{5} R0e_{1, 2} + t_{2}\\right)^{2}}} + \\frac{\\left(- d_{5} R0e_{1, 2} + t_{2}\\right) \\cos^{2}{\\left(\\operatorname{acos}{\\left(- \\frac{- a_{2}^{2} + a_{3}^{2} - \\left(- d_{5} R0e_{0, 2} + t_{1}\\right)^{2} - \\left(- d_{5} R0e_{1, 2} + t_{2}\\right)^{2} - \\left(- d_{1} - d_{5} R0e_{2, 2} + t_{3}\\right)^{2}}{2 a_{2} \\sqrt{\\left(- d_{5} R0e_{0, 2} + t_{1}\\right)^{2} + \\left(- d_{5} R0e_{1, 2} + t_{2}\\right)^{2} + \\left(- d_{1} - d_{5} R0e_{2, 2} + t_{3}\\right)^{2}}} \\right)} - \\operatorname{atan_{2}}{\\left(\\sqrt{\\left(- d_{5} R0e_{0, 2} + t_{1}\\right)^{2} + \\left(- d_{5} R0e_{1, 2} + t_{2}\\right)^{2}},- d_{1} - d_{5} R0e_{2, 2} + t_{3} \\right)} \\right)}}{\\sqrt{\\left(- d_{5} R0e_{0, 2} + t_{1}\\right)^{2} + \\left(- d_{5} R0e_{1, 2} + t_{2}\\right)^{2}}} & \\frac{2 \\left(- d_{5} R0e_{1, 2} + t_{2}\\right) \\sin{\\left(\\operatorname{acos}{\\left(- \\frac{- a_{2}^{2} + a_{3}^{2} - \\left(- d_{5} R0e_{0, 2} + t_{1}\\right)^{2} - \\left(- d_{5} R0e_{1, 2} + t_{2}\\right)^{2} - \\left(- d_{1} - d_{5} R0e_{2, 2} + t_{3}\\right)^{2}}{2 a_{2} \\sqrt{\\left(- d_{5} R0e_{0, 2} + t_{1}\\right)^{2} + \\left(- d_{5} R0e_{1, 2} + t_{2}\\right)^{2} + \\left(- d_{1} - d_{5} R0e_{2, 2} + t_{3}\\right)^{2}}} \\right)} - \\operatorname{atan_{2}}{\\left(\\sqrt{\\left(- d_{5} R0e_{0, 2} + t_{1}\\right)^{2} + \\left(- d_{5} R0e_{1, 2} + t_{2}\\right)^{2}},- d_{1} - d_{5} R0e_{2, 2} + t_{3} \\right)} \\right)} \\cos{\\left(\\operatorname{acos}{\\left(- \\frac{- a_{2}^{2} + a_{3}^{2} - \\left(- d_{5} R0e_{0, 2} + t_{1}\\right)^{2} - \\left(- d_{5} R0e_{1, 2} + t_{2}\\right)^{2} - \\left(- d_{1} - d_{5} R0e_{2, 2} + t_{3}\\right)^{2}}{2 a_{2} \\sqrt{\\left(- d_{5} R0e_{0, 2} + t_{1}\\right)^{2} + \\left(- d_{5} R0e_{1, 2} + t_{2}\\right)^{2} + \\left(- d_{1} - d_{5} R0e_{2, 2} + t_{3}\\right)^{2}}} \\right)} - \\operatorname{atan_{2}}{\\left(\\sqrt{\\left(- d_{5} R0e_{0, 2} + t_{1}\\right)^{2} + \\left(- d_{5} R0e_{1, 2} + t_{2}\\right)^{2}},- d_{1} - d_{5} R0e_{2, 2} + t_{3} \\right)} \\right)}}{\\sqrt{\\left(- d_{5} R0e_{0, 2} + t_{1}\\right)^{2} + \\left(- d_{5} R0e_{1, 2} + t_{2}\\right)^{2}}} & \\frac{- d_{5} R0e_{0, 2} + t_{1}}{\\sqrt{\\left(- d_{5} R0e_{0, 2} + t_{1}\\right)^{2} + \\left(- d_{5} R0e_{1, 2} + t_{2}\\right)^{2}}}\\\\2 \\sin{\\left(\\operatorname{acos}{\\left(- \\frac{- a_{2}^{2} + a_{3}^{2} - \\left(- d_{5} R0e_{0, 2} + t_{1}\\right)^{2} - \\left(- d_{5} R0e_{1, 2} + t_{2}\\right)^{2} - \\left(- d_{1} - d_{5} R0e_{2, 2} + t_{3}\\right)^{2}}{2 a_{2} \\sqrt{\\left(- d_{5} R0e_{0, 2} + t_{1}\\right)^{2} + \\left(- d_{5} R0e_{1, 2} + t_{2}\\right)^{2} + \\left(- d_{1} - d_{5} R0e_{2, 2} + t_{3}\\right)^{2}}} \\right)} - \\operatorname{atan_{2}}{\\left(\\sqrt{\\left(- d_{5} R0e_{0, 2} + t_{1}\\right)^{2} + \\left(- d_{5} R0e_{1, 2} + t_{2}\\right)^{2}},- d_{1} - d_{5} R0e_{2, 2} + t_{3} \\right)} \\right)} \\cos{\\left(\\operatorname{acos}{\\left(- \\frac{- a_{2}^{2} + a_{3}^{2} - \\left(- d_{5} R0e_{0, 2} + t_{1}\\right)^{2} - \\left(- d_{5} R0e_{1, 2} + t_{2}\\right)^{2} - \\left(- d_{1} - d_{5} R0e_{2, 2} + t_{3}\\right)^{2}}{2 a_{2} \\sqrt{\\left(- d_{5} R0e_{0, 2} + t_{1}\\right)^{2} + \\left(- d_{5} R0e_{1, 2} + t_{2}\\right)^{2} + \\left(- d_{1} - d_{5} R0e_{2, 2} + t_{3}\\right)^{2}}} \\right)} - \\operatorname{atan_{2}}{\\left(\\sqrt{\\left(- d_{5} R0e_{0, 2} + t_{1}\\right)^{2} + \\left(- d_{5} R0e_{1, 2} + t_{2}\\right)^{2}},- d_{1} - d_{5} R0e_{2, 2} + t_{3} \\right)} \\right)} & \\sin^{2}{\\left(\\operatorname{acos}{\\left(- \\frac{- a_{2}^{2} + a_{3}^{2} - \\left(- d_{5} R0e_{0, 2} + t_{1}\\right)^{2} - \\left(- d_{5} R0e_{1, 2} + t_{2}\\right)^{2} - \\left(- d_{1} - d_{5} R0e_{2, 2} + t_{3}\\right)^{2}}{2 a_{2} \\sqrt{\\left(- d_{5} R0e_{0, 2} + t_{1}\\right)^{2} + \\left(- d_{5} R0e_{1, 2} + t_{2}\\right)^{2} + \\left(- d_{1} - d_{5} R0e_{2, 2} + t_{3}\\right)^{2}}} \\right)} - \\operatorname{atan_{2}}{\\left(\\sqrt{\\left(- d_{5} R0e_{0, 2} + t_{1}\\right)^{2} + \\left(- d_{5} R0e_{1, 2} + t_{2}\\right)^{2}},- d_{1} - d_{5} R0e_{2, 2} + t_{3} \\right)} \\right)} - \\cos^{2}{\\left(\\operatorname{acos}{\\left(- \\frac{- a_{2}^{2} + a_{3}^{2} - \\left(- d_{5} R0e_{0, 2} + t_{1}\\right)^{2} - \\left(- d_{5} R0e_{1, 2} + t_{2}\\right)^{2} - \\left(- d_{1} - d_{5} R0e_{2, 2} + t_{3}\\right)^{2}}{2 a_{2} \\sqrt{\\left(- d_{5} R0e_{0, 2} + t_{1}\\right)^{2} + \\left(- d_{5} R0e_{1, 2} + t_{2}\\right)^{2} + \\left(- d_{1} - d_{5} R0e_{2, 2} + t_{3}\\right)^{2}}} \\right)} - \\operatorname{atan_{2}}{\\left(\\sqrt{\\left(- d_{5} R0e_{0, 2} + t_{1}\\right)^{2} + \\left(- d_{5} R0e_{1, 2} + t_{2}\\right)^{2}},- d_{1} - d_{5} R0e_{2, 2} + t_{3} \\right)} \\right)} & 0\\end{matrix}\\right]$"
      ],
      "text/plain": [
       "Matrix([\n",
       "[-(-d5*R0e[0, 2] + t1)*sin(acos(-(-a2**2 + a3**2 - (-d5*R0e[0, 2] + t1)**2 - (-d5*R0e[1, 2] + t2)**2 - (-d1 - d5*R0e[2, 2] + t3)**2)/(2*a2*sqrt((-d5*R0e[0, 2] + t1)**2 + (-d5*R0e[1, 2] + t2)**2 + (-d1 - d5*R0e[2, 2] + t3)**2))) - atan2(sqrt((-d5*R0e[0, 2] + t1)**2 + (-d5*R0e[1, 2] + t2)**2), -d1 - d5*R0e[2, 2] + t3))**2/sqrt((-d5*R0e[0, 2] + t1)**2 + (-d5*R0e[1, 2] + t2)**2) + (-d5*R0e[0, 2] + t1)*cos(acos(-(-a2**2 + a3**2 - (-d5*R0e[0, 2] + t1)**2 - (-d5*R0e[1, 2] + t2)**2 - (-d1 - d5*R0e[2, 2] + t3)**2)/(2*a2*sqrt((-d5*R0e[0, 2] + t1)**2 + (-d5*R0e[1, 2] + t2)**2 + (-d1 - d5*R0e[2, 2] + t3)**2))) - atan2(sqrt((-d5*R0e[0, 2] + t1)**2 + (-d5*R0e[1, 2] + t2)**2), -d1 - d5*R0e[2, 2] + t3))**2/sqrt((-d5*R0e[0, 2] + t1)**2 + (-d5*R0e[1, 2] + t2)**2), 2*(-d5*R0e[0, 2] + t1)*sin(acos(-(-a2**2 + a3**2 - (-d5*R0e[0, 2] + t1)**2 - (-d5*R0e[1, 2] + t2)**2 - (-d1 - d5*R0e[2, 2] + t3)**2)/(2*a2*sqrt((-d5*R0e[0, 2] + t1)**2 + (-d5*R0e[1, 2] + t2)**2 + (-d1 - d5*R0e[2, 2] + t3)**2))) - atan2(sqrt((-d5*R0e[0, 2] + t1)**2 + (-d5*R0e[1, 2] + t2)**2), -d1 - d5*R0e[2, 2] + t3))*cos(acos(-(-a2**2 + a3**2 - (-d5*R0e[0, 2] + t1)**2 - (-d5*R0e[1, 2] + t2)**2 - (-d1 - d5*R0e[2, 2] + t3)**2)/(2*a2*sqrt((-d5*R0e[0, 2] + t1)**2 + (-d5*R0e[1, 2] + t2)**2 + (-d1 - d5*R0e[2, 2] + t3)**2))) - atan2(sqrt((-d5*R0e[0, 2] + t1)**2 + (-d5*R0e[1, 2] + t2)**2), -d1 - d5*R0e[2, 2] + t3))/sqrt((-d5*R0e[0, 2] + t1)**2 + (-d5*R0e[1, 2] + t2)**2), -(-d5*R0e[1, 2] + t2)/sqrt((-d5*R0e[0, 2] + t1)**2 + (-d5*R0e[1, 2] + t2)**2)],\n",
       "[-(-d5*R0e[1, 2] + t2)*sin(acos(-(-a2**2 + a3**2 - (-d5*R0e[0, 2] + t1)**2 - (-d5*R0e[1, 2] + t2)**2 - (-d1 - d5*R0e[2, 2] + t3)**2)/(2*a2*sqrt((-d5*R0e[0, 2] + t1)**2 + (-d5*R0e[1, 2] + t2)**2 + (-d1 - d5*R0e[2, 2] + t3)**2))) - atan2(sqrt((-d5*R0e[0, 2] + t1)**2 + (-d5*R0e[1, 2] + t2)**2), -d1 - d5*R0e[2, 2] + t3))**2/sqrt((-d5*R0e[0, 2] + t1)**2 + (-d5*R0e[1, 2] + t2)**2) + (-d5*R0e[1, 2] + t2)*cos(acos(-(-a2**2 + a3**2 - (-d5*R0e[0, 2] + t1)**2 - (-d5*R0e[1, 2] + t2)**2 - (-d1 - d5*R0e[2, 2] + t3)**2)/(2*a2*sqrt((-d5*R0e[0, 2] + t1)**2 + (-d5*R0e[1, 2] + t2)**2 + (-d1 - d5*R0e[2, 2] + t3)**2))) - atan2(sqrt((-d5*R0e[0, 2] + t1)**2 + (-d5*R0e[1, 2] + t2)**2), -d1 - d5*R0e[2, 2] + t3))**2/sqrt((-d5*R0e[0, 2] + t1)**2 + (-d5*R0e[1, 2] + t2)**2), 2*(-d5*R0e[1, 2] + t2)*sin(acos(-(-a2**2 + a3**2 - (-d5*R0e[0, 2] + t1)**2 - (-d5*R0e[1, 2] + t2)**2 - (-d1 - d5*R0e[2, 2] + t3)**2)/(2*a2*sqrt((-d5*R0e[0, 2] + t1)**2 + (-d5*R0e[1, 2] + t2)**2 + (-d1 - d5*R0e[2, 2] + t3)**2))) - atan2(sqrt((-d5*R0e[0, 2] + t1)**2 + (-d5*R0e[1, 2] + t2)**2), -d1 - d5*R0e[2, 2] + t3))*cos(acos(-(-a2**2 + a3**2 - (-d5*R0e[0, 2] + t1)**2 - (-d5*R0e[1, 2] + t2)**2 - (-d1 - d5*R0e[2, 2] + t3)**2)/(2*a2*sqrt((-d5*R0e[0, 2] + t1)**2 + (-d5*R0e[1, 2] + t2)**2 + (-d1 - d5*R0e[2, 2] + t3)**2))) - atan2(sqrt((-d5*R0e[0, 2] + t1)**2 + (-d5*R0e[1, 2] + t2)**2), -d1 - d5*R0e[2, 2] + t3))/sqrt((-d5*R0e[0, 2] + t1)**2 + (-d5*R0e[1, 2] + t2)**2),  (-d5*R0e[0, 2] + t1)/sqrt((-d5*R0e[0, 2] + t1)**2 + (-d5*R0e[1, 2] + t2)**2)],\n",
       "[                                                                                                                                                                 2*sin(acos(-(-a2**2 + a3**2 - (-d5*R0e[0, 2] + t1)**2 - (-d5*R0e[1, 2] + t2)**2 - (-d1 - d5*R0e[2, 2] + t3)**2)/(2*a2*sqrt((-d5*R0e[0, 2] + t1)**2 + (-d5*R0e[1, 2] + t2)**2 + (-d1 - d5*R0e[2, 2] + t3)**2))) - atan2(sqrt((-d5*R0e[0, 2] + t1)**2 + (-d5*R0e[1, 2] + t2)**2), -d1 - d5*R0e[2, 2] + t3))*cos(acos(-(-a2**2 + a3**2 - (-d5*R0e[0, 2] + t1)**2 - (-d5*R0e[1, 2] + t2)**2 - (-d1 - d5*R0e[2, 2] + t3)**2)/(2*a2*sqrt((-d5*R0e[0, 2] + t1)**2 + (-d5*R0e[1, 2] + t2)**2 + (-d1 - d5*R0e[2, 2] + t3)**2))) - atan2(sqrt((-d5*R0e[0, 2] + t1)**2 + (-d5*R0e[1, 2] + t2)**2), -d1 - d5*R0e[2, 2] + t3)),                                                                        sin(acos(-(-a2**2 + a3**2 - (-d5*R0e[0, 2] + t1)**2 - (-d5*R0e[1, 2] + t2)**2 - (-d1 - d5*R0e[2, 2] + t3)**2)/(2*a2*sqrt((-d5*R0e[0, 2] + t1)**2 + (-d5*R0e[1, 2] + t2)**2 + (-d1 - d5*R0e[2, 2] + t3)**2))) - atan2(sqrt((-d5*R0e[0, 2] + t1)**2 + (-d5*R0e[1, 2] + t2)**2), -d1 - d5*R0e[2, 2] + t3))**2 - cos(acos(-(-a2**2 + a3**2 - (-d5*R0e[0, 2] + t1)**2 - (-d5*R0e[1, 2] + t2)**2 - (-d1 - d5*R0e[2, 2] + t3)**2)/(2*a2*sqrt((-d5*R0e[0, 2] + t1)**2 + (-d5*R0e[1, 2] + t2)**2 + (-d1 - d5*R0e[2, 2] + t3)**2))) - atan2(sqrt((-d5*R0e[0, 2] + t1)**2 + (-d5*R0e[1, 2] + t2)**2), -d1 - d5*R0e[2, 2] + t3))**2,                                                                             0]])"
      ]
     },
     "metadata": {},
     "output_type": "display_data"
    }
   ],
   "source": [
    "# Calculate R03\n",
    "\n",
    "R03 = R01*R12*R23\n",
    "display(R03)"
   ]
  },
  {
   "cell_type": "code",
   "execution_count": null,
   "metadata": {},
   "outputs": [],
   "source": [
    "# Calculate Re3\n",
    "\n",
    "R3e = R03.inv()*R0e\n",
    "#display(R0e[1,2])\n",
    "#display(R3e)\n",
    "#display(R3e[1,2])"
   ]
  },
  {
   "cell_type": "code",
   "execution_count": null,
   "metadata": {},
   "outputs": [],
   "source": [
    "# Find theta4, theta5\n",
    "\n",
    "theta5 = acos(-R3e[2,1])\n",
    "theta4 = asin(-R3e[1,2])\n",
    "display(theta5)\n",
    "display(theta4)"
   ]
  }
 ],
 "metadata": {
  "kernelspec": {
   "display_name": "Python 3",
   "language": "python",
   "name": "python3"
  },
  "language_info": {
   "codemirror_mode": {
    "name": "ipython",
    "version": 3
   },
   "file_extension": ".py",
   "mimetype": "text/x-python",
   "name": "python",
   "nbconvert_exporter": "python",
   "pygments_lexer": "ipython3",
   "version": "3.8.3"
  }
 },
 "nbformat": 4,
 "nbformat_minor": 4
}
