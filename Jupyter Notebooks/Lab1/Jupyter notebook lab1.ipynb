{
 "cells": [
  {
   "cell_type": "code",
   "execution_count": 17,
   "metadata": {},
   "outputs": [],
   "source": [
    "import numpy as np\n",
    "import sympy as sym\n",
    "from sympy import *\n",
    "from IPython.display import display\n",
    "init_printing(use_latex='mathjax')\n",
    "x,y,z=sym.symbols('x y z')"
   ]
  },
  {
   "cell_type": "markdown",
   "metadata": {},
   "source": [
    "Function used to systematically calculate $A^{i-1}_{i}$ for verifying the joint coordinates in our code"
   ]
  },
  {
   "cell_type": "code",
   "execution_count": 3,
   "metadata": {},
   "outputs": [],
   "source": [
    "def createA(DH4):\n",
    "    a=DH4[0]\n",
    "    alpha=DH4[1]\n",
    "    d=DH4[2]\n",
    "    theta=DH4[3]\n",
    "    row1=[cos(theta),-sin(theta)*cos(alpha),sin(theta)*sin(alpha),a*cos(theta)]\n",
    "    row2=[sin(theta),cos(theta)*cos(alpha),-cos(theta)*sin(alpha),a*sin(theta)]\n",
    "    row3=[0,sin(alpha),cos(alpha),d]\n",
    "    row4=[0,0,0,1]\n",
    "    Ai_1i=Matrix([row1,row2,row3,row4])\n",
    "    return Ai_1i"
   ]
  },
  {
   "cell_type": "markdown",
   "metadata": {},
   "source": [
    "Defines the link parameters for each link to check symbolically against matlab code."
   ]
  },
  {
   "cell_type": "code",
   "execution_count": 4,
   "metadata": {},
   "outputs": [],
   "source": [
    "link1=[0,-pi/2,symbols(\"L{1}\"),symbols(\"theta1\")]\n",
    "link2=[symbols(\"L_{2}\"),0,0,symbols(\"theta2\")-pi/2]\n",
    "link3=[symbols(\"-L_{3}\"),0,0,symbols(\"theta3\")+pi/2]\n",
    "link4=[0,pi/2,0,symbols(\"theta4\")-pi/2]\n",
    "linke=[0,0,symbols(\"L_{4+5}\"),symbols(\"theta5\")+pi]\n",
    "testlink=[symbols(\"a_{1}\"),symbols(\"alpha1\"),symbols(\"d_{1}\"),symbols(\"theta1\")]\n"
   ]
  },
  {
   "cell_type": "code",
   "execution_count": 94,
   "metadata": {},
   "outputs": [],
   "source": [
    "\n",
    "link1=[0,-pi/2,symbols(\"L{1}\"),0]\n",
    "link2=[symbols(\"L_{2}\"),0,0,-pi/2]\n",
    "link3=[symbols(\"-L_{3}\"),0,0,symbols(\"theta3\")+pi/2]\n",
    "link4=[0,pi/2,0,symbols(\"theta4\")-pi/2]\n",
    "linke=[0,0,symbols(\"L_{4+5}\"),symbols(\"theta5\")+pi]\n",
    "testlink=[symbols(\"a_{1}\"),symbols(\"alpha1\"),symbols(\"d_{1}\"),symbols(\"theta1\")]"
   ]
  },
  {
   "cell_type": "code",
   "execution_count": 23,
   "metadata": {},
   "outputs": [
    {
     "data": {
      "text/latex": [
       "$\\displaystyle \\left[\\begin{matrix}1\\\\0\\\\0\\\\1\\end{matrix}\\right]$"
      ],
      "text/plain": [
       "⎡1⎤\n",
       "⎢ ⎥\n",
       "⎢0⎥\n",
       "⎢ ⎥\n",
       "⎢0⎥\n",
       "⎢ ⎥\n",
       "⎣1⎦"
      ]
     },
     "metadata": {},
     "output_type": "display_data"
    }
   ],
   "source": [
    "T1=createA(link1)\n",
    "T2=createA(link2)\n",
    "T3=createA(link3)\n",
    "T4=createA(link4)\n",
    "T5=createA(linke)\n",
    "x,y,z=sym.symbols('x y z')\n",
    "test=Matrix([1,0,0,1])\n",
    "test1=Matrix([x,y,z,1])\n",
    "display(test)"
   ]
  },
  {
   "cell_type": "markdown",
   "metadata": {},
   "source": [
    "Example of displaying $T^0_{1}$ we could enter T1,T2,etc to display the corresponding matrix"
   ]
  },
  {
   "cell_type": "code",
   "execution_count": 26,
   "metadata": {
    "scrolled": true
   },
   "outputs": [
    {
     "data": {
      "text/latex": [
       "$\\displaystyle -L_{3} \\sin{\\left(\\theta_{2} \\right)} \\cos{\\left(\\theta_{3} \\right)} + -L_{3} \\sin{\\left(\\theta_{3} \\right)} \\cos{\\left(\\theta_{2} \\right)} - L_{2} \\cos{\\left(\\theta_{2} \\right)} - L_{4+5} \\left(- \\left(\\sin{\\left(\\theta_{2} \\right)} \\sin{\\left(\\theta_{3} \\right)} - \\cos{\\left(\\theta_{2} \\right)} \\cos{\\left(\\theta_{3} \\right)}\\right) \\sin{\\left(\\theta_{4} \\right)} - \\left(- \\sin{\\left(\\theta_{2} \\right)} \\cos{\\left(\\theta_{3} \\right)} - \\sin{\\left(\\theta_{3} \\right)} \\cos{\\left(\\theta_{2} \\right)}\\right) \\cos{\\left(\\theta_{4} \\right)}\\right) - L{1} + z + \\left(- \\left(\\sin{\\left(\\theta_{2} \\right)} \\sin{\\left(\\theta_{3} \\right)} - \\cos{\\left(\\theta_{2} \\right)} \\cos{\\left(\\theta_{3} \\right)}\\right) \\cos{\\left(\\theta_{4} \\right)} + \\left(- \\sin{\\left(\\theta_{2} \\right)} \\cos{\\left(\\theta_{3} \\right)} - \\sin{\\left(\\theta_{3} \\right)} \\cos{\\left(\\theta_{2} \\right)}\\right) \\sin{\\left(\\theta_{4} \\right)}\\right) \\cos{\\left(\\theta_{5} \\right)}$"
      ],
      "text/plain": [
       "-L_{3}⋅sin(θ₂)⋅cos(θ₃) + -L_{3}⋅sin(θ₃)⋅cos(θ₂) - L_{2}⋅cos(θ₂) - L_{4+5}⋅(-(s\n",
       "in(θ₂)⋅sin(θ₃) - cos(θ₂)⋅cos(θ₃))⋅sin(θ₄) - (-sin(θ₂)⋅cos(θ₃) - sin(θ₃)⋅cos(θ₂\n",
       "))⋅cos(θ₄)) - L{1} + z + (-(sin(θ₂)⋅sin(θ₃) - cos(θ₂)⋅cos(θ₃))⋅cos(θ₄) + (-sin\n",
       "(θ₂)⋅cos(θ₃) - sin(θ₃)⋅cos(θ₂))⋅sin(θ₄))⋅cos(θ₅)"
      ]
     },
     "metadata": {},
     "output_type": "display_data"
    }
   ],
   "source": [
    "display((test1-((T1*T2*T3*T4*T5)*test))[2])"
   ]
  },
  {
   "cell_type": "markdown",
   "metadata": {},
   "source": [
    "This is why analytically writing $T^{0}_{e}$ is unfeasible. This monstrous section is just part of the first collumn."
   ]
  },
  {
   "cell_type": "code",
   "execution_count": 97,
   "metadata": {
    "scrolled": true
   },
   "outputs": [
    {
     "data": {
      "text/latex": [
       "$\\displaystyle \\left[\\begin{matrix}1 & 0 & 0 & 0\\\\0 & 0 & -1 & 0\\\\0 & 1 & 0 & L{1}\\\\0 & 0 & 0 & 1\\end{matrix}\\right]$"
      ],
      "text/plain": [
       "⎡1  0  0    0  ⎤\n",
       "⎢              ⎥\n",
       "⎢0  0  -1   0  ⎥\n",
       "⎢              ⎥\n",
       "⎢0  1  0   L{1}⎥\n",
       "⎢              ⎥\n",
       "⎣0  0  0    1  ⎦"
      ]
     },
     "metadata": {},
     "output_type": "display_data"
    }
   ],
   "source": [
    "display(T1)"
   ]
  },
  {
   "cell_type": "code",
   "execution_count": null,
   "metadata": {},
   "outputs": [],
   "source": []
  }
 ],
 "metadata": {
  "kernelspec": {
   "display_name": "Python 3",
   "language": "python",
   "name": "python3"
  },
  "language_info": {
   "codemirror_mode": {
    "name": "ipython",
    "version": 3
   },
   "file_extension": ".py",
   "mimetype": "text/x-python",
   "name": "python",
   "nbconvert_exporter": "python",
   "pygments_lexer": "ipython3",
   "version": "3.7.7"
  }
 },
 "nbformat": 4,
 "nbformat_minor": 4
}
